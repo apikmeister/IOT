{
 "cells": [
  {
   "cell_type": "code",
   "execution_count": 1,
   "id": "fa66512d",
   "metadata": {},
   "outputs": [
    {
     "name": "stdout",
     "output_type": "stream",
     "text": [
      "enter a number:20\n",
      "positive number\n"
     ]
    }
   ],
   "source": [
    "value = int(input('enter a number:'))\n",
    "\n",
    "if value > 0:\n",
    "    print('positive number')\n",
    "elif value == 0:\n",
    "    print('zero')\n",
    "else:\n",
    "    print('negative number')"
   ]
  },
  {
   "cell_type": "code",
   "execution_count": 2,
   "id": "e8e00a68",
   "metadata": {},
   "outputs": [
    {
     "name": "stdout",
     "output_type": "stream",
     "text": [
      "BMW\n",
      "Merc\n",
      "Proton\n"
     ]
    }
   ],
   "source": [
    "car = ['BMW', 'Merc', 'Proton']\n",
    "for x in car:\n",
    "    print(x)"
   ]
  },
  {
   "cell_type": "code",
   "execution_count": 3,
   "id": "158e9a52",
   "metadata": {},
   "outputs": [
    {
     "name": "stdout",
     "output_type": "stream",
     "text": [
      "M\n",
      "e\n",
      "r\n",
      "c\n",
      "e\n",
      "d\n",
      "e\n",
      "s\n"
     ]
    }
   ],
   "source": [
    "for x in 'Mercedes':\n",
    "    print(x)"
   ]
  },
  {
   "cell_type": "code",
   "execution_count": 4,
   "id": "03e01844",
   "metadata": {},
   "outputs": [
    {
     "name": "stdout",
     "output_type": "stream",
     "text": [
      "a lower than b\n",
      "a lower than b\n",
      "a lower than b\n",
      "a lower than b\n",
      "a lower than b\n",
      "a lower than b\n",
      "a lower than b\n",
      "a lower than b\n",
      "a lower than b\n"
     ]
    }
   ],
   "source": [
    "a = 1\n",
    "b = 10\n",
    "\n",
    "while a < b:\n",
    "    print('a lower than b')\n",
    "    a = a + 1"
   ]
  },
  {
   "cell_type": "code",
   "execution_count": 5,
   "id": "3762496b",
   "metadata": {},
   "outputs": [
    {
     "name": "stdout",
     "output_type": "stream",
     "text": [
      "Hello\n"
     ]
    }
   ],
   "source": [
    "def my_function():\n",
    "    \"\"\"This function to print hello\"\"\"\n",
    "    \n",
    "    print('Hello')\n",
    "    \n",
    "my_function()"
   ]
  },
  {
   "cell_type": "code",
   "execution_count": 6,
   "id": "8d29613e",
   "metadata": {},
   "outputs": [
    {
     "name": "stdout",
     "output_type": "stream",
     "text": [
      "a:20\n",
      "b:30\n",
      "50\n"
     ]
    }
   ],
   "source": [
    "def my_function():\n",
    "    \"\"\"This function to make addition between a and b\"\"\"\n",
    "    a = int(input('a:'))\n",
    "    b = int(input('b:'))\n",
    "    print(a + b)\n",
    "    \n",
    "my_function()"
   ]
  },
  {
   "cell_type": "code",
   "execution_count": 13,
   "id": "dc72ea57",
   "metadata": {},
   "outputs": [
    {
     "name": "stdout",
     "output_type": "stream",
     "text": [
      "Enter your body temperature:38\n",
      "You have a fever. Go to the clinic.\n"
     ]
    }
   ],
   "source": [
    "def determine_fever():\n",
    "    temp = int(input('Enter your body temperature:'))\n",
    "    if temp > 37:\n",
    "        print('You have a fever. Go to the clinic.')\n",
    "    else:\n",
    "        print('You are healty')\n",
    "        \n",
    "determine_fever()"
   ]
  }
 ],
 "metadata": {
  "kernelspec": {
   "display_name": "Python 3 (ipykernel)",
   "language": "python",
   "name": "python3"
  },
  "language_info": {
   "codemirror_mode": {
    "name": "ipython",
    "version": 3
   },
   "file_extension": ".py",
   "mimetype": "text/x-python",
   "name": "python",
   "nbconvert_exporter": "python",
   "pygments_lexer": "ipython3",
   "version": "3.11.1"
  }
 },
 "nbformat": 4,
 "nbformat_minor": 5
}
