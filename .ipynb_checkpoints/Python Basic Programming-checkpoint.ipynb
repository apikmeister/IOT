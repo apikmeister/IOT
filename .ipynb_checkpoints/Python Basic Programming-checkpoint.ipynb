{
 "cells": [
  {
   "cell_type": "code",
   "execution_count": 1,
   "id": "325a535c",
   "metadata": {},
   "outputs": [
    {
     "name": "stdout",
     "output_type": "stream",
     "text": [
      "Hello world\n"
     ]
    }
   ],
   "source": [
    "print(\"Hello world\")"
   ]
  },
  {
   "cell_type": "code",
   "execution_count": 2,
   "id": "2c815c1f",
   "metadata": {},
   "outputs": [
    {
     "ename": "IndentationError",
     "evalue": "expected an indented block after 'if' statement on line 1 (352808136.py, line 2)",
     "output_type": "error",
     "traceback": [
      "\u001b[1;36m  Cell \u001b[1;32mIn[2], line 2\u001b[1;36m\u001b[0m\n\u001b[1;33m    print(\"wrong identation\")\u001b[0m\n\u001b[1;37m    ^\u001b[0m\n\u001b[1;31mIndentationError\u001b[0m\u001b[1;31m:\u001b[0m expected an indented block after 'if' statement on line 1\n"
     ]
    }
   ],
   "source": [
    "if 5>3:\n",
    "print(\"wrong identation\")"
   ]
  },
  {
   "cell_type": "code",
   "execution_count": 3,
   "id": "b4d94f6a",
   "metadata": {},
   "outputs": [
    {
     "name": "stdout",
     "output_type": "stream",
     "text": [
      "right identation\n"
     ]
    }
   ],
   "source": [
    "if 5>3:\n",
    "    print(\"right identation\")"
   ]
  },
  {
   "cell_type": "code",
   "execution_count": 4,
   "id": "ed165d21",
   "metadata": {},
   "outputs": [
    {
     "name": "stdout",
     "output_type": "stream",
     "text": [
      "comment test\n"
     ]
    }
   ],
   "source": [
    "# this is comment\n",
    "print(\"comment test\")"
   ]
  },
  {
   "cell_type": "code",
   "execution_count": 5,
   "id": "c267abeb",
   "metadata": {},
   "outputs": [
    {
     "name": "stdout",
     "output_type": "stream",
     "text": [
      "comment test\n"
     ]
    }
   ],
   "source": [
    "# this is comment\n",
    "# python do not have multiline comment\n",
    "print(\"comment test\")"
   ]
  },
  {
   "cell_type": "code",
   "execution_count": 6,
   "id": "5bcc9183",
   "metadata": {},
   "outputs": [
    {
     "name": "stdout",
     "output_type": "stream",
     "text": [
      "BMW\n",
      "6.0098\n",
      "5\n"
     ]
    }
   ],
   "source": [
    "a = 5\n",
    "b = 6.0098\n",
    "_car = 'BMW' # can use '' or \" \"\n",
    "\n",
    "print(_car)\n",
    "print(b)\n",
    "print(a)"
   ]
  },
  {
   "cell_type": "code",
   "execution_count": 7,
   "id": "d9b5c5ff",
   "metadata": {},
   "outputs": [
    {
     "name": "stdout",
     "output_type": "stream",
     "text": [
      "BMW\n",
      "Mercedes\n",
      "Volkswagen\n"
     ]
    }
   ],
   "source": [
    "# value assigned to multiple variables\n",
    "\n",
    "car1, car2, car3 = \"BMW\", 'Mercedes', \"Volkswagen\"\n",
    "print(car1)\n",
    "print(car2)\n",
    "print(car3)"
   ]
  },
  {
   "cell_type": "code",
   "execution_count": 8,
   "id": "88060b1a",
   "metadata": {},
   "outputs": [
    {
     "name": "stdout",
     "output_type": "stream",
     "text": [
      "Viva\n",
      "Viva\n",
      "Viva\n"
     ]
    }
   ],
   "source": [
    "# same value assigned to multiple variables\n",
    "\n",
    "car1 = car2 = car3 = \"Viva\"\n",
    "print(car1)\n",
    "print(car2)\n",
    "print(car3)"
   ]
  },
  {
   "cell_type": "code",
   "execution_count": 9,
   "id": "e816e5fb",
   "metadata": {},
   "outputs": [
    {
     "name": "stdout",
     "output_type": "stream",
     "text": [
      "My name is Dan\n"
     ]
    }
   ],
   "source": [
    "nama = 'Dan'\n",
    "print('My name is ' + nama)"
   ]
  },
  {
   "cell_type": "code",
   "execution_count": 10,
   "id": "c4df561d",
   "metadata": {},
   "outputs": [
    {
     "name": "stdout",
     "output_type": "stream",
     "text": [
      "My name is Dan\n"
     ]
    }
   ],
   "source": [
    "nama = 'Dan'\n",
    "ayat = 'My name is '\n",
    "print( ayat + nama )"
   ]
  },
  {
   "cell_type": "code",
   "execution_count": 11,
   "id": "a1f502a1",
   "metadata": {},
   "outputs": [
    {
     "name": "stdout",
     "output_type": "stream",
     "text": [
      "2040\n"
     ]
    }
   ],
   "source": [
    "number1 = 20\n",
    "number2 = 2020\n",
    "print(number1 + number2)"
   ]
  },
  {
   "cell_type": "code",
   "execution_count": 12,
   "id": "d082702b",
   "metadata": {},
   "outputs": [
    {
     "name": "stdout",
     "output_type": "stream",
     "text": [
      "Sungau Petani\n"
     ]
    }
   ],
   "source": [
    "location = 'Sungau Petani'\n",
    "\n",
    "def function1():\n",
    "    print(location)\n",
    "    \n",
    "function1()"
   ]
  },
  {
   "cell_type": "code",
   "execution_count": 13,
   "id": "794a156c",
   "metadata": {},
   "outputs": [
    {
     "name": "stdout",
     "output_type": "stream",
     "text": [
      "Jitra\n",
      "Sungai Petani\n"
     ]
    }
   ],
   "source": [
    "# global variable\n",
    "location = 'Sungai Petani'\n",
    "\n",
    "def function1():\n",
    "    # local variable\n",
    "    location = 'Jitra'\n",
    "    print(location)\n",
    "    \n",
    "function1()\n",
    "print(location)"
   ]
  },
  {
   "cell_type": "code",
   "execution_count": 14,
   "id": "2d99f6bf",
   "metadata": {},
   "outputs": [
    {
     "name": "stdout",
     "output_type": "stream",
     "text": [
      "Jitra\n",
      "Jitra\n"
     ]
    }
   ],
   "source": [
    "# global variable\n",
    "location = 'Sungai Petani'\n",
    "\n",
    "def function1():\n",
    "    # global variable created\n",
    "    # inside function\n",
    "    global location\n",
    "    \n",
    "    location = 'Jitra'\n",
    "    print(location)\n",
    "    \n",
    "function1()\n",
    "print(location)"
   ]
  },
  {
   "cell_type": "code",
   "execution_count": 1,
   "id": "9c7cc341",
   "metadata": {},
   "outputs": [
    {
     "name": "stdout",
     "output_type": "stream",
     "text": [
      "['wij', 'dan', 'mohamad']\n",
      "<class 'list'>\n"
     ]
    }
   ],
   "source": [
    "e = [\"wij\", \"dan\", \"mohamad\"]\n",
    "print(e)\n",
    "print(type(e))"
   ]
  },
  {
   "cell_type": "code",
   "execution_count": 2,
   "id": "01602ae9",
   "metadata": {},
   "outputs": [
    {
     "name": "stdout",
     "output_type": "stream",
     "text": [
      "('wij', 'dan', 'mohamad')\n",
      "<class 'tuple'>\n"
     ]
    }
   ],
   "source": [
    "f = (\"wij\", \"dan\", \"mohamad\")\n",
    "print(f)\n",
    "print(type(f))"
   ]
  },
  {
   "cell_type": "code",
   "execution_count": 3,
   "id": "99143bf6",
   "metadata": {},
   "outputs": [
    {
     "name": "stdout",
     "output_type": "stream",
     "text": [
      "['wij', 'dan', 'mohamad']\n",
      "['wij', 'dan', 'ariff']\n"
     ]
    }
   ],
   "source": [
    "e = [\"wij\", \"dan\", \"mohamad\"]\n",
    "print(e)\n",
    "\n",
    "e[2] = \"ariff\"\n",
    "print(e)"
   ]
  },
  {
   "cell_type": "code",
   "execution_count": 4,
   "id": "8d2da843",
   "metadata": {},
   "outputs": [
    {
     "name": "stdout",
     "output_type": "stream",
     "text": [
      "('wij', 'dan', 'mohamad')\n"
     ]
    },
    {
     "ename": "NameError",
     "evalue": "name 'ariff' is not defined",
     "output_type": "error",
     "traceback": [
      "\u001b[1;31m---------------------------------------------------------------------------\u001b[0m",
      "\u001b[1;31mNameError\u001b[0m                                 Traceback (most recent call last)",
      "Cell \u001b[1;32mIn[4], line 3\u001b[0m\n\u001b[0;32m      1\u001b[0m f \u001b[38;5;241m=\u001b[39m (\u001b[38;5;124m\"\u001b[39m\u001b[38;5;124mwij\u001b[39m\u001b[38;5;124m\"\u001b[39m, \u001b[38;5;124m\"\u001b[39m\u001b[38;5;124mdan\u001b[39m\u001b[38;5;124m\"\u001b[39m, \u001b[38;5;124m\"\u001b[39m\u001b[38;5;124mmohamad\u001b[39m\u001b[38;5;124m\"\u001b[39m)\n\u001b[0;32m      2\u001b[0m \u001b[38;5;28mprint\u001b[39m(f)\n\u001b[1;32m----> 3\u001b[0m f[\u001b[38;5;241m2\u001b[39m] \u001b[38;5;241m=\u001b[39m \u001b[43mariff\u001b[49m\n\u001b[0;32m      4\u001b[0m \u001b[38;5;28mprint\u001b[39m(f)\n",
      "\u001b[1;31mNameError\u001b[0m: name 'ariff' is not defined"
     ]
    }
   ],
   "source": [
    "f = (\"wij\", \"dan\", \"mohamad\")\n",
    "print(f)\n",
    "f[2] = ariff\n",
    "print(f)"
   ]
  },
  {
   "cell_type": "code",
   "execution_count": 6,
   "id": "a6daa49d",
   "metadata": {},
   "outputs": [
    {
     "name": "stdout",
     "output_type": "stream",
     "text": [
      "72\n",
      "48\n"
     ]
    }
   ],
   "source": [
    "e = [\"wij\", \"dan\", \"mohamad\"]\n",
    "f = (\"wij\", \"dan\", \"mohamad\")\n",
    "\n",
    "print(e.__sizeof__())\n",
    "print(f.__sizeof__())"
   ]
  },
  {
   "cell_type": "code",
   "execution_count": 7,
   "id": "cf1ded7a",
   "metadata": {},
   "outputs": [
    {
     "name": "stdout",
     "output_type": "stream",
     "text": [
      "his name is wijdan\n",
      "his age is 20\n"
     ]
    }
   ],
   "source": [
    "h = {'name': 'wijdan', 'age': 20}\n",
    "\n",
    "print(\"his name is\", h['name'])\n",
    "print(\"his age is\", h['age'])"
   ]
  },
  {
   "cell_type": "code",
   "execution_count": 1,
   "id": "84c888ae",
   "metadata": {},
   "outputs": [
    {
     "name": "stdout",
     "output_type": "stream",
     "text": [
      "1 2 3 4\n",
      "1#2#3#4."
     ]
    }
   ],
   "source": [
    "print(1, 2, 3, 4)\n",
    "print(1, 2, 3, 4, sep='#', end='.')"
   ]
  },
  {
   "cell_type": "code",
   "execution_count": 2,
   "id": "140ce828",
   "metadata": {},
   "outputs": [
    {
     "name": "stdout",
     "output_type": "stream",
     "text": [
      "I am 10 years old in 2020\n"
     ]
    }
   ],
   "source": [
    "x = 10\n",
    "y = 2020\n",
    "\n",
    "print(\"I am {} years old in {}\".format(x,y))"
   ]
  },
  {
   "cell_type": "code",
   "execution_count": 3,
   "id": "11946e7e",
   "metadata": {},
   "outputs": [
    {
     "name": "stdout",
     "output_type": "stream",
     "text": [
      "i love roti canai and teh tarik\n",
      "i love teh tarik and roti canai\n"
     ]
    }
   ],
   "source": [
    "print(\"i love {0} and {1}\".format(\"roti canai\", \"teh tarik\"))\n",
    "print(\"i love {1} and {0}\".format(\"roti canai\", \"teh tarik\"))"
   ]
  },
  {
   "cell_type": "code",
   "execution_count": 4,
   "id": "ceecbb3c",
   "metadata": {},
   "outputs": [
    {
     "name": "stdout",
     "output_type": "stream",
     "text": [
      "Enter a number :200\n"
     ]
    },
    {
     "data": {
      "text/plain": [
       "'200'"
      ]
     },
     "execution_count": 4,
     "metadata": {},
     "output_type": "execute_result"
    }
   ],
   "source": [
    "z = input('Enter a number :')\n",
    "z"
   ]
  },
  {
   "cell_type": "code",
   "execution_count": 5,
   "id": "cddb2638",
   "metadata": {},
   "outputs": [
    {
     "name": "stdout",
     "output_type": "stream",
     "text": [
      "enter your name:wijdan\n",
      "enter your age:20\n"
     ]
    }
   ],
   "source": [
    "name, age = input('enter your name:'),int(input('enter your age:'))"
   ]
  },
  {
   "cell_type": "code",
   "execution_count": 6,
   "id": "7f0ba07c",
   "metadata": {},
   "outputs": [
    {
     "name": "stdout",
     "output_type": "stream",
     "text": [
      "x + y =  6\n",
      "x - y =  -2\n",
      "x * y =  8\n",
      "x / y =  0.5\n",
      "x // y =  0\n",
      "x ** y =  16\n"
     ]
    }
   ],
   "source": [
    "x = 2\n",
    "y = 4\n",
    "print(\"x + y = \", x+y)\n",
    "print(\"x - y = \", x-y)\n",
    "print(\"x * y = \", x*y)\n",
    "print(\"x / y = \", x/y)\n",
    "print(\"x // y = \", x//y)\n",
    "print(\"x ** y = \", x**y)"
   ]
  },
  {
   "cell_type": "code",
   "execution_count": 7,
   "id": "fd644613",
   "metadata": {},
   "outputs": [
    {
     "name": "stdout",
     "output_type": "stream",
     "text": [
      "x > y =  False\n",
      "x < y =  True\n",
      "x == y =  False\n",
      "x != y =  True\n",
      "x >= y =  False\n",
      "x <= y =  True\n"
     ]
    }
   ],
   "source": [
    "x = 2\n",
    "y = 4\n",
    "print(\"x > y = \", x>y)\n",
    "print(\"x < y = \", x<y)\n",
    "print(\"x == y = \", x==y)\n",
    "print(\"x != y = \", x!=y)\n",
    "print(\"x >= y = \", x>=y)\n",
    "print(\"x <= y = \", x<=y)"
   ]
  },
  {
   "cell_type": "code",
   "execution_count": 8,
   "id": "3d77bced",
   "metadata": {},
   "outputs": [
    {
     "name": "stdout",
     "output_type": "stream",
     "text": [
      "x and y =  True\n",
      "x or y =  False\n",
      "x not y =  False\n"
     ]
    }
   ],
   "source": [
    "x = True\n",
    "y = False\n",
    "print(\"x and y = \", x>y)\n",
    "print(\"x or y = \", x<y)\n",
    "print(\"x not y = \", x==y)"
   ]
  },
  {
   "cell_type": "code",
   "execution_count": 9,
   "id": "d265fb13",
   "metadata": {},
   "outputs": [
    {
     "name": "stdout",
     "output_type": "stream",
     "text": [
      "0\n",
      "12\n",
      "-9\n",
      "12\n",
      "2\n",
      "32\n"
     ]
    }
   ],
   "source": [
    "x = 8\n",
    "y = 4\n",
    "\n",
    "print(x&y) #and\n",
    "print(x|y) #or\n",
    "print(~x) #not\n",
    "print(x^y) #exclusive or\n",
    "print(x>>2) #bitwise right shift\n",
    "print(x<<2) #bitwise left shift"
   ]
  },
  {
   "cell_type": "code",
   "execution_count": 11,
   "id": "78fb63a8",
   "metadata": {},
   "outputs": [
    {
     "name": "stdout",
     "output_type": "stream",
     "text": [
      "Enter a number :200\n"
     ]
    },
    {
     "data": {
      "text/plain": [
       "'200'"
      ]
     },
     "execution_count": 11,
     "metadata": {},
     "output_type": "execute_result"
    }
   ],
   "source": [
    "z = input('Enter a number :')\n",
    "z"
   ]
  },
  {
   "cell_type": "code",
   "execution_count": 12,
   "id": "726190dc",
   "metadata": {},
   "outputs": [
    {
     "name": "stdout",
     "output_type": "stream",
     "text": [
      "enter your name:wijdan\n",
      "enter your age:20\n"
     ]
    }
   ],
   "source": [
    "name, age = input('enter your name:'), int(input('enter your age:'))"
   ]
  }
 ],
 "metadata": {
  "kernelspec": {
   "display_name": "Python 3 (ipykernel)",
   "language": "python",
   "name": "python3"
  },
  "language_info": {
   "codemirror_mode": {
    "name": "ipython",
    "version": 3
   },
   "file_extension": ".py",
   "mimetype": "text/x-python",
   "name": "python",
   "nbconvert_exporter": "python",
   "pygments_lexer": "ipython3",
   "version": "3.11.1"
  }
 },
 "nbformat": 4,
 "nbformat_minor": 5
}
